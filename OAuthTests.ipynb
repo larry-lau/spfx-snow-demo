{
 "cells": [
  {
   "cell_type": "code",
   "execution_count": 7,
   "metadata": {},
   "outputs": [
    {
     "data": {
      "text/plain": [
       "'774240b8-bab7-4a77-9da4-788cb7c60ab4'"
      ]
     },
     "execution_count": 7,
     "metadata": {},
     "output_type": "execute_result"
    }
   ],
   "source": [
    "import requests\n",
    "import os\n",
    "from dotenv import load_dotenv, find_dotenv\n",
    "load_dotenv(find_dotenv())\n",
    "tenantId = os.getenv(\"TenantId\")\n",
    "tenantName = os.getenv(\"TenantName\")\n",
    "clientId = os.getenv(\"ClientId\")\n",
    "clientSecret = os.getenv(\"ClientSecret\")\n",
    "audience = os.getenv(\"Audience\")\n",
    "instance = os.getenv(\"ServiceNowInstance\")\n",
    "clientId"
   ]
  },
  {
   "cell_type": "code",
   "execution_count": 8,
   "metadata": {},
   "outputs": [
    {
     "data": {
      "text/plain": [
       "'llau@habdev.onmicrosoft.com'"
      ]
     },
     "execution_count": 8,
     "metadata": {},
     "output_type": "execute_result"
    }
   ],
   "source": [
    "import os\n",
    "from dotenv import load_dotenv\n",
    "\n",
    "# You need to create this .env file with your Entra credential\n",
    "load_dotenv('.env.secrets')\n",
    "userName = os.getenv(\"User\")\n",
    "password = os.getenv(\"Password\")\n",
    "userName"
   ]
  },
  {
   "cell_type": "code",
   "execution_count": 9,
   "metadata": {},
   "outputs": [],
   "source": [
    "headers = { \"Content-Type\": \"application/x-www-form-urlencoded\" }\n",
    "data = { \"grant_type\": \"password\",\n",
    "        \"scope\": f\"{audience}/access_as_user\",\n",
    "        \"username\": f\"{userName}\",\n",
    "        \"password\": f\"{password}\",\n",
    "        \"client_id\": f\"{clientId}\",\n",
    "        \"client_secret\": f\"{clientSecret}\" }\n",
    "\n",
    "tokenResponse = requests.post(\n",
    "        f\"https://login.microsoftonline.com/{tenantId}/oauth2/v2.0/token\",\n",
    "        data=data,\n",
    "        headers=headers\n",
    "    )\n",
    "token_json = tokenResponse.json()\n",
    "\n",
    "if 'error' in token_json:\n",
    "  print(token_json)\n",
    "else:\n",
    "  token = token_json[\"access_token\"]"
   ]
  },
  {
   "cell_type": "code",
   "execution_count": 10,
   "metadata": {},
   "outputs": [
    {
     "data": {
      "text/plain": [
       "{'aud': 'api://774240b8-bab7-4a77-9da4-788cb7c60ab4',\n",
       " 'iss': 'https://sts.windows.net/542756b4-b831-4e92-a2b0-aafa8da24b26/',\n",
       " 'iat': 1706301250,\n",
       " 'nbf': 1706301250,\n",
       " 'exp': 1706305811,\n",
       " 'acr': '1',\n",
       " 'ageGroup': '3',\n",
       " 'aio': 'ATQAy/8VAAAAg8fGMXqNDRgZTjuLMOeVDZ8OCLwGTHnkyshNzONswjl1QLDxN7YCoSXQRLtvyt5l',\n",
       " 'amr': ['pwd'],\n",
       " 'appid': '774240b8-bab7-4a77-9da4-788cb7c60ab4',\n",
       " 'appidacr': '1',\n",
       " 'family_name': 'Lau',\n",
       " 'given_name': 'Larry',\n",
       " 'ipaddr': '66.119.178.26',\n",
       " 'name': 'Larry Lau',\n",
       " 'oid': 'a86f082b-9c8f-4475-9eed-515aabe26d2d',\n",
       " 'rh': '0.ASkAtFYnVDG4kk6isKr6jaJLJrhAQne3undKnaR4jLfGCrQpABo.',\n",
       " 'scp': 'access_as_user',\n",
       " 'sub': '8cDbA9hgI-66vt6hanwODDWueYZgueVOv3lDWdFdE-k',\n",
       " 'tid': '542756b4-b831-4e92-a2b0-aafa8da24b26',\n",
       " 'unique_name': 'llau@habdev.onmicrosoft.com',\n",
       " 'upn': 'llau@habdev.onmicrosoft.com',\n",
       " 'uti': 'QRwX0Xxh7kiHEJ9wNy9oAQ',\n",
       " 'ver': '1.0'}"
      ]
     },
     "execution_count": 10,
     "metadata": {},
     "output_type": "execute_result"
    }
   ],
   "source": [
    "import jwt\n",
    "jwt.decode(token, options={\"verify_signature\": False})"
   ]
  },
  {
   "cell_type": "code",
   "execution_count": 11,
   "metadata": {},
   "outputs": [
    {
     "data": {
      "text/plain": [
       "{'result': [{'parent': '',\n",
       "   'made_sla': 'true',\n",
       "   'caused_by': '',\n",
       "   'watch_list': '',\n",
       "   'upon_reject': 'cancel',\n",
       "   'sys_updated_on': '2016-12-14 02:46:44',\n",
       "   'child_incidents': '0',\n",
       "   'hold_reason': '',\n",
       "   'origin_table': '',\n",
       "   'task_effective_number': 'INC0000060',\n",
       "   'approval_history': '',\n",
       "   'number': 'INC0000060',\n",
       "   'resolved_by': {'link': 'https://dev214153.service-now.com/api/now/table/sys_user/5137153cc611227c000bbd1bd8cd2007',\n",
       "    'value': '5137153cc611227c000bbd1bd8cd2007'},\n",
       "   'sys_updated_by': 'employee',\n",
       "   'opened_by': {'link': 'https://dev214153.service-now.com/api/now/table/sys_user/681ccaf9c0a8016400b98a06818d57c7',\n",
       "    'value': '681ccaf9c0a8016400b98a06818d57c7'},\n",
       "   'user_input': '',\n",
       "   'sys_created_on': '2016-12-12 15:19:57',\n",
       "   'sys_domain': {'link': 'https://dev214153.service-now.com/api/now/table/sys_user_group/global',\n",
       "    'value': 'global'},\n",
       "   'state': '7',\n",
       "   'route_reason': '',\n",
       "   'sys_created_by': 'employee',\n",
       "   'knowledge': 'false',\n",
       "   'order': '',\n",
       "   'calendar_stc': '102197',\n",
       "   'closed_at': '2016-12-14 02:46:44',\n",
       "   'cmdb_ci': {'link': 'https://dev214153.service-now.com/api/now/table/cmdb_ci/109562a3c611227500a7b7ff98cc0dc7',\n",
       "    'value': '109562a3c611227500a7b7ff98cc0dc7'},\n",
       "   'contract': '',\n",
       "   'impact': '2',\n",
       "   'active': 'false',\n",
       "   'work_notes_list': '',\n",
       "   'business_service': {'link': 'https://dev214153.service-now.com/api/now/table/cmdb_ci_service/27d32778c0a8000b00db970eeaa60f16',\n",
       "    'value': '27d32778c0a8000b00db970eeaa60f16'},\n",
       "   'business_impact': '',\n",
       "   'priority': '3',\n",
       "   'sys_domain_path': '/',\n",
       "   'rfc': '',\n",
       "   'time_worked': '',\n",
       "   'expected_start': '',\n",
       "   'opened_at': '2016-12-12 15:19:57',\n",
       "   'business_duration': '1970-01-01 08:00:00',\n",
       "   'group_list': '',\n",
       "   'work_end': '',\n",
       "   'caller_id': {'link': 'https://dev214153.service-now.com/api/now/table/sys_user/681ccaf9c0a8016400b98a06818d57c7',\n",
       "    'value': '681ccaf9c0a8016400b98a06818d57c7'},\n",
       "   'reopened_time': '',\n",
       "   'resolved_at': '2016-12-13 21:43:14',\n",
       "   'subcategory': 'email',\n",
       "   'work_notes': '',\n",
       "   'universal_request': '',\n",
       "   'short_description': 'Unable to connect to email',\n",
       "   'close_code': 'Solved (Permanently)',\n",
       "   'correlation_display': '',\n",
       "   'work_start': '',\n",
       "   'assignment_group': {'link': 'https://dev214153.service-now.com/api/now/table/sys_user_group/287ebd7da9fe198100f92cc8d1d2154e',\n",
       "    'value': '287ebd7da9fe198100f92cc8d1d2154e'},\n",
       "   'additional_assignee_list': '',\n",
       "   'business_stc': '28800',\n",
       "   'cause': '',\n",
       "   'description': 'I am unable to connect to the email server. It appears to be down.',\n",
       "   'origin_id': '',\n",
       "   'calendar_duration': '1970-01-02 04:23:17',\n",
       "   'close_notes': 'This incident is resolved.',\n",
       "   'notify': '1',\n",
       "   'service_offering': '',\n",
       "   'sys_class_name': 'incident',\n",
       "   'closed_by': {'link': 'https://dev214153.service-now.com/api/now/table/sys_user/681ccaf9c0a8016400b98a06818d57c7',\n",
       "    'value': '681ccaf9c0a8016400b98a06818d57c7'},\n",
       "   'follow_up': '',\n",
       "   'parent_incident': '',\n",
       "   'sys_id': '1c741bd70b2322007518478d83673af3',\n",
       "   'contact_type': 'self-service',\n",
       "   'reopened_by': '',\n",
       "   'incident_state': '7',\n",
       "   'urgency': '2',\n",
       "   'problem_id': '',\n",
       "   'reassignment_count': '2',\n",
       "   'activity_due': '2016-12-13 01:26:36',\n",
       "   'assigned_to': {'link': 'https://dev214153.service-now.com/api/now/table/sys_user/5137153cc611227c000bbd1bd8cd2007',\n",
       "    'value': '5137153cc611227c000bbd1bd8cd2007'},\n",
       "   'severity': '3',\n",
       "   'comments': '',\n",
       "   'approval': 'not requested',\n",
       "   'sla_due': '',\n",
       "   'due_date': '',\n",
       "   'sys_mod_count': '15',\n",
       "   'reopen_count': '0',\n",
       "   'sys_tags': '',\n",
       "   'escalation': '0',\n",
       "   'upon_approval': 'proceed',\n",
       "   'correlation_id': '',\n",
       "   'location': '',\n",
       "   'category': 'inquiry'}]}"
      ]
     },
     "execution_count": 11,
     "metadata": {},
     "output_type": "execute_result"
    }
   ],
   "source": [
    "dataResponse = requests.get(\n",
    "        f\"https://{instance}.service-now.com/api/now/table/incident?sysparm_limit=1\",\n",
    "        headers={ \"Content-Type\": \"application/json\", \"Authorization\": f\"Bearer {token}\" })\n",
    "dataResponse.json()"
   ]
  },
  {
   "cell_type": "code",
   "execution_count": 6,
   "metadata": {},
   "outputs": [
    {
     "data": {
      "text/plain": [
       "{'result': []}"
      ]
     },
     "execution_count": 6,
     "metadata": {},
     "output_type": "execute_result"
    }
   ],
   "source": [
    "dataResponse = requests.get(\n",
    "        f\"https://{instance}.service-now.com/api/now/table/sc_request?sysparm_limit=1\",\n",
    "        headers={ \"Content-Type\": \"application/json\", \"Authorization\": f\"Bearer {token}\" })\n",
    "dataResponse.json()"
   ]
  }
 ],
 "metadata": {
  "kernelspec": {
   "display_name": "Python 3",
   "language": "python",
   "name": "python3"
  },
  "language_info": {
   "codemirror_mode": {
    "name": "ipython",
    "version": 3
   },
   "file_extension": ".py",
   "mimetype": "text/x-python",
   "name": "python",
   "nbconvert_exporter": "python",
   "pygments_lexer": "ipython3",
   "version": "3.11.4"
  }
 },
 "nbformat": 4,
 "nbformat_minor": 2
}
